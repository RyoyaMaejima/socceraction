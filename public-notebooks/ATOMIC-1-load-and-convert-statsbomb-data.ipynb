{
 "cells": [
  {
   "cell_type": "markdown",
   "metadata": {},
   "source": [
    "**Disclaimer**: this notebook's compatibility with StatsBomb event data 4.0.0 was last checked on January 3rd, 2021"
   ]
  },
  {
   "cell_type": "code",
   "execution_count": 1,
   "metadata": {
    "execution": {
     "iopub.execute_input": "2021-09-17T14:01:57.248017Z",
     "iopub.status.busy": "2021-09-17T14:01:57.242729Z",
     "iopub.status.idle": "2021-09-17T14:01:57.681196Z",
     "shell.execute_reply": "2021-09-17T14:01:57.682191Z"
    }
   },
   "outputs": [],
   "source": [
    "import os\n",
    "import warnings\n",
    "import pandas as pd\n",
    "pd.set_option('display.max_columns', None)\n",
    "warnings.simplefilter(action='ignore', category=pd.errors.PerformanceWarning)\n",
    "import tqdm"
   ]
  },
  {
   "cell_type": "code",
   "execution_count": 2,
   "metadata": {
    "execution": {
     "iopub.execute_input": "2021-09-17T14:01:57.692468Z",
     "iopub.status.busy": "2021-09-17T14:01:57.691189Z",
     "iopub.status.idle": "2021-09-17T14:01:58.591737Z",
     "shell.execute_reply": "2021-09-17T14:01:58.591106Z"
    }
   },
   "outputs": [],
   "source": [
    "%load_ext autoreload\n",
    "%autoreload 2\n",
    "from socceraction.data.statsbomb import StatsBombLoader\n",
    "import socceraction.spadl as spadl\n",
    "import socceraction.atomic.spadl as atomicspadl"
   ]
  },
  {
   "cell_type": "markdown",
   "metadata": {},
   "source": [
    "## Set up the statsbombloader"
   ]
  },
  {
   "cell_type": "code",
   "execution_count": 3,
   "metadata": {
    "execution": {
     "iopub.execute_input": "2021-09-17T14:01:58.596523Z",
     "iopub.status.busy": "2021-09-17T14:01:58.595780Z",
     "iopub.status.idle": "2021-09-17T14:01:58.622543Z",
     "shell.execute_reply": "2021-09-17T14:01:58.621994Z"
    }
   },
   "outputs": [],
   "source": [
    "# Use this if you only want to use the free public statsbomb data\n",
    "free_open_data_remote = \"https://raw.githubusercontent.com/statsbomb/open-data/master/data/\"\n",
    "SBL = StatsBombLoader(root=free_open_data_remote, getter=\"remote\")\n",
    "\n",
    "# # Uncomment the code below if you have a local folder on your computer with statsbomb data\n",
    "#datafolder = \"../data-epl\" # Example of local folder with statsbomb data\n",
    "#SBL = statsbomb.StatsBombLoader(root=datafolder, getter=\"local\")"
   ]
  },
  {
   "cell_type": "markdown",
   "metadata": {},
   "source": [
    "## Select competitions to load and convert"
   ]
  },
  {
   "cell_type": "code",
   "execution_count": 4,
   "metadata": {
    "execution": {
     "iopub.execute_input": "2021-09-17T14:01:58.626175Z",
     "iopub.status.busy": "2021-09-17T14:01:58.625490Z",
     "iopub.status.idle": "2021-09-17T14:01:58.717569Z",
     "shell.execute_reply": "2021-09-17T14:01:58.717006Z"
    }
   },
   "outputs": [
    {
     "data": {
      "text/plain": [
       "{'Champions League',\n",
       " \"FA Women's Super League\",\n",
       " 'FIFA World Cup',\n",
       " 'La Liga',\n",
       " 'NWSL',\n",
       " 'Premier League',\n",
       " \"Women's World Cup\"}"
      ]
     },
     "execution_count": 1,
     "metadata": {},
     "output_type": "execute_result"
    }
   ],
   "source": [
    "# View all available competitions\n",
    "competitions = SBL.competitions()\n",
    "set(competitions.competition_name)"
   ]
  },
  {
   "cell_type": "code",
   "execution_count": 5,
   "metadata": {
    "execution": {
     "iopub.execute_input": "2021-09-17T14:01:58.721487Z",
     "iopub.status.busy": "2021-09-17T14:01:58.720790Z",
     "iopub.status.idle": "2021-09-17T14:01:58.761007Z",
     "shell.execute_reply": "2021-09-17T14:01:58.761525Z"
    }
   },
   "outputs": [
    {
     "data": {
      "text/html": [
       "<div>\n",
       "<style scoped>\n",
       "    .dataframe tbody tr th:only-of-type {\n",
       "        vertical-align: middle;\n",
       "    }\n",
       "\n",
       "    .dataframe tbody tr th {\n",
       "        vertical-align: top;\n",
       "    }\n",
       "\n",
       "    .dataframe thead th {\n",
       "        text-align: right;\n",
       "    }\n",
       "</style>\n",
       "<table border=\"1\" class=\"dataframe\">\n",
       "  <thead>\n",
       "    <tr style=\"text-align: right;\">\n",
       "      <th></th>\n",
       "      <th>season_id</th>\n",
       "      <th>competition_id</th>\n",
       "      <th>competition_name</th>\n",
       "      <th>country_name</th>\n",
       "      <th>competition_gender</th>\n",
       "      <th>season_name</th>\n",
       "    </tr>\n",
       "  </thead>\n",
       "  <tbody>\n",
       "    <tr>\n",
       "      <th>17</th>\n",
       "      <td>3</td>\n",
       "      <td>43</td>\n",
       "      <td>FIFA World Cup</td>\n",
       "      <td>International</td>\n",
       "      <td>male</td>\n",
       "      <td>2018</td>\n",
       "    </tr>\n",
       "  </tbody>\n",
       "</table>\n",
       "</div>"
      ],
      "text/plain": [
       "    season_id  competition_id competition_name   country_name  \\\n",
       "17          3              43   FIFA World Cup  International   \n",
       "\n",
       "   competition_gender season_name  \n",
       "17               male        2018  "
      ]
     },
     "execution_count": 1,
     "metadata": {},
     "output_type": "execute_result"
    }
   ],
   "source": [
    "# Fifa world cup\n",
    "selected_competitions = competitions[competitions.competition_name == \"FIFA World Cup\"]\n",
    "\n",
    "# # Messi data\n",
    "# selected_competitions = competitions[competitions.competition_name == \"La Liga\"]\n",
    "\n",
    "# # FA Women's Super League\n",
    "# selected_competitions = competitions[competitions.competition_name == \"FA Women's Super League\"]\n",
    "selected_competitions"
   ]
  },
  {
   "cell_type": "code",
   "execution_count": 6,
   "metadata": {
    "execution": {
     "iopub.execute_input": "2021-09-17T14:01:58.765676Z",
     "iopub.status.busy": "2021-09-17T14:01:58.765087Z",
     "iopub.status.idle": "2021-09-17T14:01:58.880347Z",
     "shell.execute_reply": "2021-09-17T14:01:58.879363Z"
    },
    "scrolled": true
   },
   "outputs": [
    {
     "data": {
      "text/html": [
       "<div>\n",
       "<style scoped>\n",
       "    .dataframe tbody tr th:only-of-type {\n",
       "        vertical-align: middle;\n",
       "    }\n",
       "\n",
       "    .dataframe tbody tr th {\n",
       "        vertical-align: top;\n",
       "    }\n",
       "\n",
       "    .dataframe thead th {\n",
       "        text-align: right;\n",
       "    }\n",
       "</style>\n",
       "<table border=\"1\" class=\"dataframe\">\n",
       "  <thead>\n",
       "    <tr style=\"text-align: right;\">\n",
       "      <th></th>\n",
       "      <th>home_team_id</th>\n",
       "      <th>away_team_id</th>\n",
       "      <th>game_date</th>\n",
       "      <th>home_score</th>\n",
       "      <th>away_score</th>\n",
       "    </tr>\n",
       "  </thead>\n",
       "  <tbody>\n",
       "    <tr>\n",
       "      <th>0</th>\n",
       "      <td>785</td>\n",
       "      <td>776</td>\n",
       "      <td>2018-07-01 20:00:00</td>\n",
       "      <td>1</td>\n",
       "      <td>1</td>\n",
       "    </tr>\n",
       "    <tr>\n",
       "      <th>1</th>\n",
       "      <td>775</td>\n",
       "      <td>793</td>\n",
       "      <td>2018-06-22 17:00:00</td>\n",
       "      <td>2</td>\n",
       "      <td>0</td>\n",
       "    </tr>\n",
       "    <tr>\n",
       "      <th>2</th>\n",
       "      <td>789</td>\n",
       "      <td>769</td>\n",
       "      <td>2018-06-24 20:00:00</td>\n",
       "      <td>0</td>\n",
       "      <td>3</td>\n",
       "    </tr>\n",
       "    <tr>\n",
       "      <th>3</th>\n",
       "      <td>785</td>\n",
       "      <td>775</td>\n",
       "      <td>2018-06-16 21:00:00</td>\n",
       "      <td>2</td>\n",
       "      <td>0</td>\n",
       "    </tr>\n",
       "    <tr>\n",
       "      <th>4</th>\n",
       "      <td>781</td>\n",
       "      <td>795</td>\n",
       "      <td>2018-06-22 14:00:00</td>\n",
       "      <td>2</td>\n",
       "      <td>0</td>\n",
       "    </tr>\n",
       "    <tr>\n",
       "      <th>...</th>\n",
       "      <td>...</td>\n",
       "      <td>...</td>\n",
       "      <td>...</td>\n",
       "      <td>...</td>\n",
       "      <td>...</td>\n",
       "    </tr>\n",
       "    <tr>\n",
       "      <th>59</th>\n",
       "      <td>782</td>\n",
       "      <td>768</td>\n",
       "      <td>2018-07-14 16:00:00</td>\n",
       "      <td>2</td>\n",
       "      <td>0</td>\n",
       "    </tr>\n",
       "    <tr>\n",
       "      <th>60</th>\n",
       "      <td>796</td>\n",
       "      <td>774</td>\n",
       "      <td>2018-06-19 20:00:00</td>\n",
       "      <td>3</td>\n",
       "      <td>1</td>\n",
       "    </tr>\n",
       "    <tr>\n",
       "      <th>61</th>\n",
       "      <td>770</td>\n",
       "      <td>790</td>\n",
       "      <td>2018-06-23 20:00:00</td>\n",
       "      <td>2</td>\n",
       "      <td>1</td>\n",
       "    </tr>\n",
       "    <tr>\n",
       "      <th>62</th>\n",
       "      <td>786</td>\n",
       "      <td>773</td>\n",
       "      <td>2018-06-22 20:00:00</td>\n",
       "      <td>1</td>\n",
       "      <td>2</td>\n",
       "    </tr>\n",
       "    <tr>\n",
       "      <th>63</th>\n",
       "      <td>777</td>\n",
       "      <td>768</td>\n",
       "      <td>2018-06-18 20:00:00</td>\n",
       "      <td>1</td>\n",
       "      <td>2</td>\n",
       "    </tr>\n",
       "  </tbody>\n",
       "</table>\n",
       "<p>64 rows × 5 columns</p>\n",
       "</div>"
      ],
      "text/plain": [
       "    home_team_id  away_team_id           game_date  home_score  away_score\n",
       "0            785           776 2018-07-01 20:00:00           1           1\n",
       "1            775           793 2018-06-22 17:00:00           2           0\n",
       "2            789           769 2018-06-24 20:00:00           0           3\n",
       "3            785           775 2018-06-16 21:00:00           2           0\n",
       "4            781           795 2018-06-22 14:00:00           2           0\n",
       "..           ...           ...                 ...         ...         ...\n",
       "59           782           768 2018-07-14 16:00:00           2           0\n",
       "60           796           774 2018-06-19 20:00:00           3           1\n",
       "61           770           790 2018-06-23 20:00:00           2           1\n",
       "62           786           773 2018-06-22 20:00:00           1           2\n",
       "63           777           768 2018-06-18 20:00:00           1           2\n",
       "\n",
       "[64 rows x 5 columns]"
      ]
     },
     "execution_count": 1,
     "metadata": {},
     "output_type": "execute_result"
    }
   ],
   "source": [
    "# Get games from all selected competitions\n",
    "games = pd.concat([\n",
    "    SBL.games(row.competition_id, row.season_id)\n",
    "    for row in selected_competitions.itertuples()\n",
    "])\n",
    "games[[\"home_team_id\", \"away_team_id\", \"game_date\", \"home_score\", \"away_score\"]]"
   ]
  },
  {
   "cell_type": "markdown",
   "metadata": {},
   "source": [
    "## Load and convert match data"
   ]
  },
  {
   "cell_type": "code",
   "execution_count": 7,
   "metadata": {
    "execution": {
     "iopub.execute_input": "2021-09-17T14:01:58.886493Z",
     "iopub.status.busy": "2021-09-17T14:01:58.885893Z",
     "iopub.status.idle": "2021-09-17T14:03:20.883935Z",
     "shell.execute_reply": "2021-09-17T14:03:20.883290Z"
    }
   },
   "outputs": [
    {
     "name": "stderr",
     "output_type": "stream",
     "text": [
      "Loading game data: 100%|██████████| 64/64 [01:21<00:00,  1.28s/it]\n"
     ]
    }
   ],
   "source": [
    "games_verbose = tqdm.tqdm(list(games.itertuples()), desc=\"Loading game data\")\n",
    "teams, players = [], []\n",
    "actions = {}\n",
    "atomic_actions = {}\n",
    "for game in games_verbose:\n",
    "    # load data\n",
    "    teams.append(SBL.teams(game.game_id))\n",
    "    players.append(SBL.players(game.game_id))\n",
    "    events = SBL.events(game.game_id)\n",
    "    \n",
    "    # convert data\n",
    "    actions = spadl.statsbomb.convert_to_actions(events, game.home_team_id)\n",
    "    atomic_actions[game.game_id] = atomicspadl.convert_to_atomic(actions)\n",
    "\n",
    "teams = pd.concat(teams).drop_duplicates(subset=\"team_id\")\n",
    "players = pd.concat(players)"
   ]
  },
  {
   "cell_type": "markdown",
   "metadata": {},
   "source": [
    "## Store converted spadl data in a h5-file"
   ]
  },
  {
   "cell_type": "code",
   "execution_count": 8,
   "metadata": {
    "execution": {
     "iopub.execute_input": "2021-09-17T14:03:20.890402Z",
     "iopub.status.busy": "2021-09-17T14:03:20.889612Z",
     "iopub.status.idle": "2021-09-17T14:03:23.862539Z",
     "shell.execute_reply": "2021-09-17T14:03:23.863069Z"
    },
    "scrolled": true
   },
   "outputs": [],
   "source": [
    "datafolder = \"../data-fifa\"\n",
    "\n",
    "# Create data folder if it doesn't exist\n",
    "if not os.path.exists(datafolder):\n",
    "    os.mkdir(datafolder)\n",
    "    print(f\"Directory {datafolder} created.\")\n",
    "\n",
    "spadl_h5 = os.path.join(datafolder, \"atomic-spadl-statsbomb.h5\")\n",
    "\n",
    "# Store all spadl data in h5-file\n",
    "with pd.HDFStore(spadl_h5) as spadlstore:\n",
    "    spadlstore[\"competitions\"] = selected_competitions\n",
    "    spadlstore[\"games\"] = games\n",
    "    spadlstore[\"teams\"] = teams\n",
    "    spadlstore[\"players\"] = players[['player_id', 'player_name', 'nickname']].drop_duplicates(subset='player_id')\n",
    "    spadlstore[\"player_games\"] = players[['player_id', 'game_id', 'team_id', 'is_starter', 'starting_position_id', 'starting_position_name', 'minutes_played']]\n",
    "    for game_id in atomic_actions.keys():\n",
    "        spadlstore[f\"atomic_actions/game_{game_id}\"] = atomic_actions[game_id]"
   ]
  },
  {
   "cell_type": "markdown",
   "metadata": {},
   "source": [
    "## Plot the spadl data\n",
    "Extra library required: ```pip install matplotsoccer```"
   ]
  },
  {
   "cell_type": "code",
   "execution_count": 9,
   "metadata": {
    "execution": {
     "iopub.execute_input": "2021-09-17T14:03:23.872928Z",
     "iopub.status.busy": "2021-09-17T14:03:23.871707Z",
     "iopub.status.idle": "2021-09-17T14:03:24.224664Z",
     "shell.execute_reply": "2021-09-17T14:03:24.223679Z"
    }
   },
   "outputs": [
    {
     "data": {
      "text/html": [
       "<div>\n",
       "<style scoped>\n",
       "    .dataframe tbody tr th:only-of-type {\n",
       "        vertical-align: middle;\n",
       "    }\n",
       "\n",
       "    .dataframe tbody tr th {\n",
       "        vertical-align: top;\n",
       "    }\n",
       "\n",
       "    .dataframe thead th {\n",
       "        text-align: right;\n",
       "    }\n",
       "</style>\n",
       "<table border=\"1\" class=\"dataframe\">\n",
       "  <thead>\n",
       "    <tr style=\"text-align: right;\">\n",
       "      <th></th>\n",
       "      <th>game_id</th>\n",
       "      <th>original_event_id</th>\n",
       "      <th>period_id</th>\n",
       "      <th>time_seconds</th>\n",
       "      <th>team_id</th>\n",
       "      <th>player_id</th>\n",
       "      <th>start_x</th>\n",
       "      <th>start_y</th>\n",
       "      <th>end_x</th>\n",
       "      <th>end_y</th>\n",
       "      <th>type_id</th>\n",
       "      <th>result_id</th>\n",
       "      <th>bodypart_id</th>\n",
       "      <th>action_id</th>\n",
       "    </tr>\n",
       "  </thead>\n",
       "  <tbody>\n",
       "    <tr>\n",
       "      <th>0</th>\n",
       "      <td>7537</td>\n",
       "      <td>8aea2d39-7680-494f-9e9a-9940dbacf9f8</td>\n",
       "      <td>1</td>\n",
       "      <td>5.0</td>\n",
       "      <td>768</td>\n",
       "      <td>3094</td>\n",
       "      <td>52.941176</td>\n",
       "      <td>33.569620</td>\n",
       "      <td>71.470588</td>\n",
       "      <td>33.569620</td>\n",
       "      <td>0</td>\n",
       "      <td>1</td>\n",
       "      <td>0</td>\n",
       "      <td>0</td>\n",
       "    </tr>\n",
       "    <tr>\n",
       "      <th>1</th>\n",
       "      <td>7537</td>\n",
       "      <td>cde6ad61-1945-44b5-9921-e5326c630a31</td>\n",
       "      <td>1</td>\n",
       "      <td>6.0</td>\n",
       "      <td>768</td>\n",
       "      <td>3244</td>\n",
       "      <td>71.470588</td>\n",
       "      <td>33.569620</td>\n",
       "      <td>71.470588</td>\n",
       "      <td>33.569620</td>\n",
       "      <td>21</td>\n",
       "      <td>1</td>\n",
       "      <td>0</td>\n",
       "      <td>1</td>\n",
       "    </tr>\n",
       "    <tr>\n",
       "      <th>2</th>\n",
       "      <td>7537</td>\n",
       "      <td>ee1d8390-2fe5-43b1-871d-bd4c21355f6f</td>\n",
       "      <td>1</td>\n",
       "      <td>8.0</td>\n",
       "      <td>768</td>\n",
       "      <td>3244</td>\n",
       "      <td>71.470588</td>\n",
       "      <td>33.569620</td>\n",
       "      <td>70.588235</td>\n",
       "      <td>59.392405</td>\n",
       "      <td>0</td>\n",
       "      <td>1</td>\n",
       "      <td>0</td>\n",
       "      <td>2</td>\n",
       "    </tr>\n",
       "    <tr>\n",
       "      <th>3</th>\n",
       "      <td>7537</td>\n",
       "      <td>661d040c-4daf-4cab-8ae9-21d4fe2264ee</td>\n",
       "      <td>1</td>\n",
       "      <td>9.0</td>\n",
       "      <td>768</td>\n",
       "      <td>3205</td>\n",
       "      <td>70.588235</td>\n",
       "      <td>59.392405</td>\n",
       "      <td>63.529412</td>\n",
       "      <td>67.139241</td>\n",
       "      <td>21</td>\n",
       "      <td>1</td>\n",
       "      <td>0</td>\n",
       "      <td>3</td>\n",
       "    </tr>\n",
       "    <tr>\n",
       "      <th>4</th>\n",
       "      <td>7537</td>\n",
       "      <td>e31f3d0b-eb5b-436d-a8e1-0e476b8ae359</td>\n",
       "      <td>1</td>\n",
       "      <td>12.0</td>\n",
       "      <td>768</td>\n",
       "      <td>3205</td>\n",
       "      <td>63.529412</td>\n",
       "      <td>67.139241</td>\n",
       "      <td>58.235294</td>\n",
       "      <td>61.974684</td>\n",
       "      <td>0</td>\n",
       "      <td>1</td>\n",
       "      <td>0</td>\n",
       "      <td>4</td>\n",
       "    </tr>\n",
       "  </tbody>\n",
       "</table>\n",
       "</div>"
      ],
      "text/plain": [
       "   game_id                     original_event_id  period_id  time_seconds  \\\n",
       "0     7537  8aea2d39-7680-494f-9e9a-9940dbacf9f8          1           5.0   \n",
       "1     7537  cde6ad61-1945-44b5-9921-e5326c630a31          1           6.0   \n",
       "2     7537  ee1d8390-2fe5-43b1-871d-bd4c21355f6f          1           8.0   \n",
       "3     7537  661d040c-4daf-4cab-8ae9-21d4fe2264ee          1           9.0   \n",
       "4     7537  e31f3d0b-eb5b-436d-a8e1-0e476b8ae359          1          12.0   \n",
       "\n",
       "   team_id  player_id    start_x    start_y      end_x      end_y  type_id  \\\n",
       "0      768       3094  52.941176  33.569620  71.470588  33.569620        0   \n",
       "1      768       3244  71.470588  33.569620  71.470588  33.569620       21   \n",
       "2      768       3244  71.470588  33.569620  70.588235  59.392405        0   \n",
       "3      768       3205  70.588235  59.392405  63.529412  67.139241       21   \n",
       "4      768       3205  63.529412  67.139241  58.235294  61.974684        0   \n",
       "\n",
       "   result_id  bodypart_id  action_id  \n",
       "0          1            0          0  \n",
       "1          1            0          1  \n",
       "2          1            0          2  \n",
       "3          1            0          3  \n",
       "4          1            0          4  "
      ]
     },
     "execution_count": 1,
     "metadata": {},
     "output_type": "execute_result"
    }
   ],
   "source": [
    "with pd.HDFStore(spadl_h5) as spadlstore:\n",
    "    games = (\n",
    "        spadlstore[\"games\"]\n",
    "        .merge(spadlstore[\"competitions\"], how='left')\n",
    "        .merge(spadlstore[\"teams\"].add_prefix('home_'), how='left')\n",
    "        .merge(spadlstore[\"teams\"].add_prefix('away_'), how='left'))\n",
    "    # Select England vs Belgium game at World Cup\n",
    "    game = games[(games.competition_name == \"FIFA World Cup\") \n",
    "                  & (games.away_team_name == \"England\")\n",
    "                  & (games.home_team_name == \"Belgium\")]\n",
    "    game_id = game.game_id.values[0]\n",
    "    atomic_actions = spadlstore[f\"atomic_actions/game_{game_id}\"]\n",
    "    atomic_actions = (\n",
    "        atomic_actions\n",
    "        .merge(atomicspadl.actiontypes_df(), how=\"left\")\n",
    "        .merge(spadl.bodyparts_df(), how=\"left\")\n",
    "        .merge(spadlstore[\"players\"], how=\"left\")\n",
    "        .merge(spadlstore[\"teams\"], how=\"left\")\n",
    "    )\n",
    "\n",
    "# use nickname if available else use full name\n",
    "atomic_actions[\"player_name\"] = atomic_actions[[\"nickname\", \"player_name\"]].apply(lambda x: x[0] if x[0] else x[1],axis=1)\n",
    "del atomic_actions['nickname']\n",
    "actions[:5]"
   ]
  },
  {
   "cell_type": "code",
   "execution_count": 10,
   "metadata": {
    "execution": {
     "iopub.execute_input": "2021-09-17T14:03:24.233359Z",
     "iopub.status.busy": "2021-09-17T14:03:24.232656Z",
     "iopub.status.idle": "2021-09-17T14:03:25.390668Z",
     "shell.execute_reply": "2021-09-17T14:03:25.391174Z"
    }
   },
   "outputs": [
    {
     "name": "stdout",
     "output_type": "stream",
     "text": [
      "2018-07-14 16:00:00 Belgium 2-0 England 4'\n"
     ]
    },
    {
     "data": {
      "image/png": "[encoded data removed]",
      "text/plain": [
       "<Figure size 432x288 with 1 Axes>"
      ]
     },
     "metadata": {
      "needs_background": "light"
     },
     "output_type": "display_data"
    },
    {
     "name": "stdout",
     "output_type": "stream",
     "text": [
      "2018-07-14 16:00:00 Belgium 2-0 England 82'\n"
     ]
    },
    {
     "data": {
      "image/png": "[encoded data removed]",
      "text/plain": [
       "<Figure size 432x288 with 1 Axes>"
      ]
     },
     "metadata": {
      "needs_background": "light"
     },
     "output_type": "display_data"
    }
   ],
   "source": [
    "import matplotsoccer\n",
    "\n",
    "for shot in list(atomic_actions[(atomic_actions.type_name == \"goal\")].index):\n",
    "    a = atomic_actions[shot-7:shot+1].copy()\n",
    "\n",
    "    a[\"start_x\"] = a.x\n",
    "    a[\"start_y\"] = a.y\n",
    "    a[\"end_x\"] = a.x + a.dx\n",
    "    a[\"end_y\"] = a.y + a.dy\n",
    "\n",
    "    g = game.iloc[0]\n",
    "    minute = int((a.period_id.values[0] - 1) * 45 + a.time_seconds.values[0] // 60)\n",
    "    game_info = f\"{g.game_date} {g.home_team_name} {g.home_score}-{g.away_score} {g.away_team_name} {minute + 1}'\"\n",
    "    print(game_info)\n",
    "\n",
    "    def nice_time(row):\n",
    "        minute = int((row.period_id-1) * 45 + row.time_seconds // 60)\n",
    "        second = int(row.time_seconds % 60)\n",
    "        return f\"{minute}m{second}s\"\n",
    "\n",
    "    a[\"nice_time\"] = a.apply(nice_time,axis=1)\n",
    "    labels = a[[\"nice_time\", \"type_name\", \"player_name\", \"team_name\"]]\n",
    "\n",
    "    matplotsoccer.actions(\n",
    "        location=a[[\"start_x\", \"start_y\", \"end_x\", \"end_y\"]],\n",
    "        action_type=a.type_name,\n",
    "        team= a.team_name,\n",
    "        label=labels,\n",
    "        labeltitle=[\"time\", \"actiontype\", \"player_name\", \"team\"],\n",
    "        zoom=False,\n",
    "        figsize=6\n",
    "    )"
   ]
  },
  {
   "cell_type": "code",
   "execution_count": null,
   "metadata": {},
   "outputs": [],
   "source": []
  }
 ],
 "metadata": {
  "kernelspec": {
   "display_name": "socceraction",
   "language": "python",
   "name": "socceraction"
  },
  "language_info": {
   "codemirror_mode": {
    "name": "ipython",
    "version": 3
   },
   "file_extension": ".py",
   "mimetype": "text/x-python",
   "name": "python",
   "nbconvert_exporter": "python",
   "pygments_lexer": "ipython3",
   "version": "3.6.2"
  },
  "toc": {
   "base_numbering": 1,
   "nav_menu": {},
   "number_sections": true,
   "sideBar": true,
   "skip_h1_title": false,
   "title_cell": "Table of Contents",
   "title_sidebar": "Contents",
   "toc_cell": false,
   "toc_position": {},
   "toc_section_display": true,
   "toc_window_display": true
  },
  "varInspector": {
   "cols": {
    "lenName": 16,
    "lenType": 16,
    "lenVar": 40
   },
   "kernels_config": {
    "python": {
     "delete_cmd_postfix": "",
     "delete_cmd_prefix": "del ",
     "library": "var_list.py",
     "varRefreshCmd": "print(var_dic_list())"
    },
    "r": {
     "delete_cmd_postfix": ") ",
     "delete_cmd_prefix": "rm(",
     "library": "var_list.r",
     "varRefreshCmd": "cat(var_dic_list()) "
    }
   },
   "types_to_exclude": [
    "module",
    "function",
    "builtin_function_or_method",
    "instance",
    "_Feature"
   ],
   "window_display": false
  }
 },
 "nbformat": 4,
 "nbformat_minor": 2
}
